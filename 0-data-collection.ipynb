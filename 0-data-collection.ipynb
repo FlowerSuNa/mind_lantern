{
 "cells": [
  {
   "cell_type": "markdown",
   "id": "5a332f32",
   "metadata": {},
   "source": [
    "# 데이터 수집"
   ]
  },
  {
   "cell_type": "markdown",
   "id": "853080cc",
   "metadata": {},
   "source": [
    "- 유튜브 플레이 리스트 제목 : 조회수 100만 이상의 즉문즉설 베스트\n",
    "- 유뷰브 플레이 리스트 ID : `PLGiaCgd9PatcGBfZ7xTGdTAsHoNPRQ_AP`"
   ]
  },
  {
   "cell_type": "code",
   "execution_count": null,
   "id": "455aa054",
   "metadata": {},
   "outputs": [],
   "source": [
    "# 로컬 저장\n",
    "# ! yt-dlp --write-auto-sub --sub-lang ko --skip-download -o \"data/%(title)s.%(ext)s\" \"https://www.youtube.com/playlist?list=PLGiaCgd9PatcGBfZ7xTGdTAsHoNPRQ_AP\""
   ]
  },
  {
   "cell_type": "code",
   "execution_count": 4,
   "id": "ad4c4a5f",
   "metadata": {},
   "outputs": [
    {
     "name": "stdout",
     "output_type": "stream",
     "text": [
      "Your browser has been opened to visit:\n",
      "\n",
      "    https://accounts.google.com/o/oauth2/auth?client_id=1071344378062-kv36e6mgl1vnr89evq958br79d063h8p.apps.googleusercontent.com&redirect_uri=http%3A%2F%2Flocalhost%3A8080%2F&scope=https%3A%2F%2Fwww.googleapis.com%2Fauth%2Fdrive&access_type=offline&response_type=code\n",
      "\n",
      "Authentication successful.\n"
     ]
    }
   ],
   "source": [
    "from pydrive.auth import GoogleAuth\n",
    "from pydrive.drive import GoogleDrive\n",
    "import os\n",
    "\n",
    "gauth = GoogleAuth()\n",
    "gauth.LocalWebserverAuth()  # 처음 실행 시 브라우저 인증\n",
    "drive = GoogleDrive(gauth)"
   ]
  },
  {
   "cell_type": "code",
   "execution_count": 45,
   "id": "d77cc4c4",
   "metadata": {},
   "outputs": [],
   "source": [
    "from dotenv import load_dotenv\n",
    "import os\n",
    "\n",
    "load_dotenv()\n",
    "google_dirve_vtt_id = os.getenv(\"GOOGLE_DRIVE_VTT_ID\")\n",
    "google_dirve_txt_id = os.getenv(\"GOOGLE_DRIVE_TXT_ID\")"
   ]
  },
  {
   "cell_type": "code",
   "execution_count": null,
   "id": "7052d558",
   "metadata": {},
   "outputs": [],
   "source": [
    "import yt_dlp\n",
    "import requests\n",
    "from io import BytesIO\n",
    "\n",
    "def get_playlist_entries(playlist_url):\n",
    "    \"\"\" 유튜브 플레이리스트 URL 데이터 반환\"\"\"\n",
    "    ydl_opts = {'quiet': True, 'extract_flat': True}\n",
    "    with yt_dlp.YoutubeDL(ydl_opts) as ydl:\n",
    "        info = ydl.extract_info(playlist_url, download=False)\n",
    "        return info['entries']\n",
    "    \n",
    "def get_subtitle_text(video_url, lang='ko'):\n",
    "    \"\"\" 유튜브 자막 데이터 반환 \"\"\"\n",
    "    buffer = BytesIO()\n",
    "    ydl_opts = {\n",
    "        'writesubtitles': True,\n",
    "        'skip_download': True,\n",
    "        'subtitleslangs': [lang],\n",
    "        'writeautomaticsub': True,\n",
    "        'quiet': True,\n",
    "        'outtmpl': '-',  # 실제 저장은 안함\n",
    "    }\n",
    "\n",
    "    with yt_dlp.YoutubeDL(ydl_opts) as ydl:\n",
    "        info_dict = ydl.extract_info(video_url, download=False)\n",
    "        subtitles = info_dict.get('subtitles') or info_dict.get('automatic_captions')\n",
    "        \n",
    "        if not subtitles or lang not in subtitles:\n",
    "            return None, None\n",
    "        \n",
    "        # 자막 가져오기\n",
    "        subtitle_url = subtitles[lang][0]['url']\n",
    "        response = requests.get(subtitle_url)\n",
    "        response.encoding = 'utf-8'\n",
    "        return info_dict['title'], response.text\n",
    "    \n",
    "def upload_to_drive(title, text, lang='ko'):\n",
    "    \"\"\" 자막 데이터 구글 드라이브에 저장 \"\"\"\n",
    "    filename = f\"{title}.{lang}.vtt\"\n",
    "    file = drive.CreateFile({\n",
    "        'title': filename,\n",
    "        'parents': [{'id': google_dirve_vtt_id}]\n",
    "    })\n",
    "    file.SetContentString(text)\n",
    "    file.Upload()"
   ]
  },
  {
   "cell_type": "code",
   "execution_count": null,
   "id": "a7c87db0",
   "metadata": {},
   "outputs": [],
   "source": [
    "playlist_url = \"https://www.youtube.com/playlist?list=PLGiaCgd9PatcGBfZ7xTGdTAsHoNPRQ_AP\"\n",
    "entries = get_playlist_entries(playlist_url)\n",
    "\n",
    "for entry in entries:\n",
    "    video_url = f\"https://www.youtube.com/watch?v={entry['id']}\"\n",
    "    title, text = get_subtitle_text(video_url, lang='ko')\n",
    "    if title and text:\n",
    "        upload_to_drive(title, text)\n",
    "    else:\n",
    "        print(f\"❌ 자막 없음: {video_url}\")"
   ]
  },
  {
   "cell_type": "markdown",
   "id": "cca6f58c",
   "metadata": {},
   "source": [
    "# 데이터 가공"
   ]
  },
  {
   "cell_type": "code",
   "execution_count": 40,
   "id": "8e5cde75",
   "metadata": {},
   "outputs": [],
   "source": [
    "def clean_content(content:dict) -> str:\n",
    "    \"\"\" 자막 데이터 가공 \"\"\"\n",
    "    segs = []\n",
    "    for event in content['events']:\n",
    "        if \"segs\" not in event:\n",
    "            continue\n",
    "\n",
    "        segs += event[\"segs\"]\n",
    "    return ''.join([seg[\"utf8\"] for seg in segs]).strip()"
   ]
  },
  {
   "cell_type": "code",
   "execution_count": null,
   "id": "f3b0544b",
   "metadata": {},
   "outputs": [],
   "source": [
    "import json\n",
    "import re\n",
    "\n",
    "# .vtt 파일만 검색\n",
    "file_list = drive.ListFile({\n",
    "    'q': f\"'{google_dirve_vtt_id}' in parents and title contains '.vtt' and trashed=false\"\n",
    "}).GetList()\n",
    "\n",
    "# 자막 데이터 로드\n",
    "contents = {}\n",
    "for file in file_list:\n",
    "    title = re.sub(\".vtt\", \".txt\", file['title'])\n",
    "    content = json.loads(file.GetContentString())\n",
    "    content = clean_content(content) # 자막 데이터 가공\n",
    "    contents[title] = content\n",
    "\n",
    "    # 가공 데이터 구글 드라이브에 저장\n",
    "    file = drive.CreateFile({\n",
    "        'title': title,\n",
    "        'parents': [{'id': google_dirve_txt_id}]\n",
    "    })\n",
    "    file.SetContentString(content)\n",
    "    file.Upload()\n",
    "\n",
    "    print(title)\n",
    "    print('---'*10)\n",
    "    print(content[:10])\n",
    "    print('==='*10)"
   ]
  }
 ],
 "metadata": {
  "kernelspec": {
   "display_name": "mind_lantern_s",
   "language": "python",
   "name": "python3"
  },
  "language_info": {
   "codemirror_mode": {
    "name": "ipython",
    "version": 3
   },
   "file_extension": ".py",
   "mimetype": "text/x-python",
   "name": "python",
   "nbconvert_exporter": "python",
   "pygments_lexer": "ipython3",
   "version": "3.12.10"
  }
 },
 "nbformat": 4,
 "nbformat_minor": 5
}
