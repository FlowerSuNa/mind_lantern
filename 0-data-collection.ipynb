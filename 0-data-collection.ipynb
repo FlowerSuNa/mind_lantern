{
 "cells": [
  {
   "cell_type": "markdown",
   "id": "2ea1f4c0",
   "metadata": {},
   "source": [
    "# 환경설정"
   ]
  },
  {
   "cell_type": "code",
   "execution_count": null,
   "id": "219f8b7b",
   "metadata": {},
   "outputs": [],
   "source": [
    "import re\n",
    "import json"
   ]
  },
  {
   "cell_type": "code",
   "execution_count": null,
   "id": "ad4c4a5f",
   "metadata": {},
   "outputs": [],
   "source": [
    "from pydrive.auth import GoogleAuth\n",
    "from pydrive.drive import GoogleDrive\n",
    "\n",
    "gauth = GoogleAuth()\n",
    "gauth.LocalWebserverAuth()  # 처음 실행 시 브라우저 인증\n",
    "drive = GoogleDrive(gauth)"
   ]
  },
  {
   "cell_type": "code",
   "execution_count": null,
   "id": "d77cc4c4",
   "metadata": {},
   "outputs": [],
   "source": [
    "from dotenv import load_dotenv\n",
    "import os\n",
    "\n",
    "load_dotenv()\n",
    "google_dirve_rt_id = os.getenv(\"GOOGLE_DRIVE_RT_ID\")\n",
    "google_dirve_vtt_id = os.getenv(\"GOOGLE_DRIVE_VTT_ID\")\n",
    "google_dirve_txt_id = os.getenv(\"GOOGLE_DRIVE_TXT_ID\")"
   ]
  },
  {
   "cell_type": "code",
   "execution_count": null,
   "id": "a30edd8d",
   "metadata": {},
   "outputs": [],
   "source": [
    "playlist_id = \"PLGiaCgd9PatcGBfZ7xTGdTAsHoNPRQ_AP\""
   ]
  },
  {
   "cell_type": "code",
   "execution_count": null,
   "id": "c0de7b57",
   "metadata": {},
   "outputs": [],
   "source": [
    "def upload_to_drive(filename: str, data, google_drive_id: str):\n",
    "    \"\"\" 데이터 구글 드라이브에 저장 \"\"\"\n",
    "    file = drive.CreateFile({\n",
    "        'title': filename,\n",
    "        'parents': [{'id': google_drive_id}]\n",
    "    })\n",
    "    file.SetContentString(data)\n",
    "    file.Upload()"
   ]
  },
  {
   "cell_type": "markdown",
   "id": "5a332f32",
   "metadata": {},
   "source": [
    "# 데이터 수집"
   ]
  },
  {
   "cell_type": "markdown",
   "id": "853080cc",
   "metadata": {},
   "source": [
    "- 유튜브 플레이 리스트 제목 : 조회수 100만 이상의 즉문즉설 베스트\n",
    "- 유뷰브 플레이 리스트 ID : `PLGiaCgd9PatcGBfZ7xTGdTAsHoNPRQ_AP`"
   ]
  },
  {
   "cell_type": "code",
   "execution_count": null,
   "id": "455aa054",
   "metadata": {},
   "outputs": [],
   "source": [
    "# 로컬 저장\n",
    "# ! yt-dlp --write-auto-sub --sub-lang ko --skip-download -o \"data/%(title)s.%(ext)s\" \"https://www.youtube.com/playlist?list=PLGiaCgd9PatcGBfZ7xTGdTAsHoNPRQ_AP\""
   ]
  },
  {
   "cell_type": "code",
   "execution_count": null,
   "id": "7052d558",
   "metadata": {},
   "outputs": [],
   "source": [
    "import yt_dlp\n",
    "import requests\n",
    "\n",
    "def get_playlist_entries(playlist_url):\n",
    "    \"\"\" 유튜브 플레이리스트 URL 데이터 반환\"\"\"\n",
    "    ydl_opts = {'quiet': True, 'extract_flat': True}\n",
    "    with yt_dlp.YoutubeDL(ydl_opts) as ydl:\n",
    "        info = ydl.extract_info(playlist_url, download=False)\n",
    "        return info['entries']\n",
    "    \n",
    "def get_subtitle_text(info_dict):\n",
    "    \"\"\" 유튜브 자막 데이터 반환 \"\"\"\n",
    "    # 자막 가져오기\n",
    "    subtitles = info_dict.get('subtitles') or info_dict.get('automatic_captions')\n",
    "    \n",
    "    if not subtitles or 'ko' not in subtitles:\n",
    "        return None\n",
    "    \n",
    "    # 자막 가져오기\n",
    "    subtitle_url = subtitles['ko'][0]['url']\n",
    "    response = requests.get(subtitle_url)\n",
    "    response.encoding = 'utf-8'\n",
    "    return response.text"
   ]
  },
  {
   "cell_type": "code",
   "execution_count": null,
   "id": "2f33f393",
   "metadata": {},
   "outputs": [],
   "source": [
    "# 유튜브 플레이리스트 URL 정보 로드\n",
    "playlist_url = f\"https://www.youtube.com/playlist?list={playlist_id}\"\n",
    "entries = get_playlist_entries(playlist_url)"
   ]
  },
  {
   "cell_type": "code",
   "execution_count": null,
   "id": "de60730f",
   "metadata": {},
   "outputs": [],
   "source": [
    "# 자막 추출을 위한 생성자 정의\n",
    "ydl_opts = {\n",
    "    'writesubtitles': True,           # 자막 다운로드 활성화\n",
    "    'skip_download': True,            # 영상 자체는 다운로드하지 않음\n",
    "    'subtitleslangs': ['ko'],         # 한국어 자막만 대상\n",
    "    'writeautomaticsub': True,        # 자동 생성 자막(YouTube 자동 자막)도 허용\n",
    "    'quiet': True,                    # 출력 로그 최소화\n",
    "    'outtmpl': '-',                   # 파일 저장하지 않음 (stdout 출력 용도)\n",
    "}\n",
    "ydl = yt_dlp.YoutubeDL(ydl_opts)"
   ]
  },
  {
   "cell_type": "code",
   "execution_count": null,
   "id": "57b17dba",
   "metadata": {},
   "outputs": [],
   "source": [
    "# 초기화\n",
    "contents = {}"
   ]
  },
  {
   "cell_type": "code",
   "execution_count": null,
   "id": "39a4e12d",
   "metadata": {},
   "outputs": [],
   "source": [
    "from yt_dlp.utils import DownloadError\n",
    "\n",
    "for entry in entries:\n",
    "    video_id = entry['id']\n",
    "    video_url = f\"https://www.youtube.com/watch?v={video_id}\"\n",
    "\n",
    "    try:\n",
    "        info_dict = ydl.extract_info(video_url, download=False)\n",
    "    except DownloadError  as e:\n",
    "        print(f\"❌ 다운로드 에러 : {video_url}\")\n",
    "        print(f\"사유: {e}\")\n",
    "        continue\n",
    "\n",
    "    title = info_dict.get('title')\n",
    "\n",
    "    if \"몰아보기\" in title:\n",
    "        print(f\"❌ 몰아보기 영상 스킵 : {video_url}\")\n",
    "        continue\n",
    "\n",
    "    text = get_subtitle_text(info_dict)\n",
    "    if title and text:\n",
    "        contents[video_id] = {\n",
    "            'title': title,\n",
    "            'tags': info_dict.get('tags'),\n",
    "            'video_url': video_url,\n",
    "            'view_count': info_dict.get('view_count'),\n",
    "            'duration': info_dict.get('duration'),\n",
    "            'like_count': info_dict.get('like_count'),\n",
    "            'channel': info_dict.get('channel'),\n",
    "            'upload_date': info_dict.get('upload_date'),\n",
    "            'subtitles_ko': json.loads(text)\n",
    "        }\n",
    "    else:\n",
    "        print(f\"❌ 자막 없음 : {video_url}\")"
   ]
  },
  {
   "cell_type": "markdown",
   "id": "f1fc0f22",
   "metadata": {},
   "source": [
    "❌ 자막 없음 : https://www.youtube.com/watch?v=zZJ56gguSd4 <br>\n",
    "❌ 자막 없음 : https://www.youtube.com/watch?v=yIAeCcNxcMU <br>\n",
    "❌ 자막 없음 : https://www.youtube.com/watch?v=YBi9ycNahBI <br>\n",
    "❌ 몰아보기 영상 스킵 : https://www.youtube.com/watch?v=95yhenTCn2o <br>\n",
    "❌ 몰아보기 영상 스킵 : https://www.youtube.com/watch?v=Vz4SrrF16Xo <br>\n",
    "❌ 자막 없음 : https://www.youtube.com/watch?v=_IMRG5PhVaM <br>\n",
    "❌ 자막 없음 : https://www.youtube.com/watch?v=etBucIEnu4U <br>\n",
    "❌ 몰아보기 영상 스킵 : https://www.youtube.com/watch?v=p2uO41Xiw_Q <br>\n",
    "❌ 몰아보기 영상 스킵 : https://www.youtube.com/watch?v=Vc0CVBgINGg <br>\n",
    "❌ 자막 없음 : https://www.youtube.com/watch?v=aHP4Tkz8NLY <br>\n",
    "❌ 몰아보기 영상 스킵 : https://www.youtube.com/watch?v=nGI5PBZMIoU <br>\n",
    "❌ 자막 없음 : https://www.youtube.com/watch?v=Gw55vg6KhCY <br>\n",
    "❌ 자막 없음 : https://www.youtube.com/watch?v=y9DU_JH34N8 <br>\n",
    "❌ 자막 없음 : https://www.youtube.com/watch?v=eRFVolMIk6E <br>\n",
    "❌ 몰아보기 영상 스킵 : https://www.youtube.com/watch?v=EI6OhhZrVAQ <br>\n",
    "❌ 몰아보기 영상 스킵 : https://www.youtube.com/watch?v=xJlg9C95jS8 <br>\n",
    "❌ 몰아보기 영상 스킵 : https://www.youtube.com/watch?v=wuHJVAlsC8Q <br>\n",
    "❌ 몰아보기 영상 스킵 : https://www.youtube.com/watch?v=bMsksVyI6PM <br>\n",
    "❌ 몰아보기 영상 스킵 : https://www.youtube.com/watch?v=AZe4EDBX47c <br>\n",
    "❌ 몰아보기 영상 스킵 : https://www.youtube.com/watch?v=S36lJ96-V78 <br>\n",
    "❌ 몰아보기 영상 스킵 : https://www.youtube.com/watch?v=votLe7RNhh0 <br>\n",
    "❌ 몰아보기 영상 스킵 : https://www.youtube.com/watch?v=Qut4goomTT0 <br>\n",
    "❌ 몰아보기 영상 스킵 : https://www.youtube.com/watch?v=sUc5oPA3dRQ <br>\n",
    "❌ 다운로드 에러 : https://www.youtube.com/watch?v=jybBMfI5ffQ / 사유: ERROR: [youtube] jybBMfI5ffQ: Private video. <br>\n",
    "❌ 다운로드 에러 : https://www.youtube.com/watch?v=91UmNJ7jmUo / 사유: ERROR: [youtube] 91UmNJ7jmUo: Private video. <br>\n",
    "❌ 다운로드 에러 : https://www.youtube.com/watch?v=x9XGbwJ0cXo / 사유: ERROR: [youtube] x9XGbwJ0cXo: Private video. <br>\n",
    "❌ 다운로드 에러 : https://www.youtube.com/watch?v=-NGc_e6S86o / 사유: ERROR: [youtube] -NGc_e6S86o: Private video. <br>\n",
    "❌ 다운로드 에러 : https://www.youtube.com/watch?v=0Si03LTGDvU / 사유: ERROR: [youtube] 0Si03LTGDvU: Private video. <br>\n",
    "❌ 다운로드 에러 : https://www.youtube.com/watch?v=reWBasfXgJ4 / 사유: ERROR: [youtube] reWBasfXgJ4: Private video. <br>\n",
    "❌ 다운로드 에러 : https://www.youtube.com/watch?v=6bAgrJ-3r5k / 사유: ERROR: [youtube] 6bAgrJ-3r5k: Video unavailable. <br>\n",
    "❌ 다운로드 에러 : https://www.youtube.com/watch?v=0-FcVgomFjM / 사유: ERROR: [youtube] 0-FcVgomFjM: Private video. <br>\n",
    "❌ 다운로드 에러 : https://www.youtube.com/watch?v=WhmFsQQOtsk / 사유: ERROR: [youtube] WhmFsQQOtsk: Private video."
   ]
  },
  {
   "cell_type": "code",
   "execution_count": null,
   "id": "1736513a",
   "metadata": {},
   "outputs": [],
   "source": [
    "# 데이터 저장\n",
    "upload_to_drive(\n",
    "    f'{playlist_id}.json', \n",
    "    json.dumps(contents, ensure_ascii=False, indent=2), \n",
    "    google_dirve_vtt_id\n",
    ")"
   ]
  },
  {
   "cell_type": "markdown",
   "id": "cca6f58c",
   "metadata": {},
   "source": [
    "# 데이터 가공"
   ]
  },
  {
   "cell_type": "markdown",
   "id": "1e726cda",
   "metadata": {},
   "source": [
    "### 1차 가공 (vtt → txt)"
   ]
  },
  {
   "cell_type": "code",
   "execution_count": null,
   "id": "8e5cde75",
   "metadata": {},
   "outputs": [],
   "source": [
    "def clean_content(title:str, content:dict) -> str:\n",
    "    \"\"\" 자막 데이터 1차 가공 \"\"\"\n",
    "    if \"events\" not in content:\n",
    "        print(title, '..Empty..')\n",
    "        print('==='*20)\n",
    "        return None\n",
    "\n",
    "    segs = []\n",
    "    for event in content['events']:\n",
    "        if \"segs\" not in event:\n",
    "            continue\n",
    "\n",
    "        segs += event[\"segs\"]\n",
    "    \n",
    "    cleaned_content = ' '.join([seg[\"utf8\"] for seg in segs])\n",
    "    cleaned_content = cleaned_content.replace('[박수]', ' ')\n",
    "    cleaned_content = cleaned_content.replace('[웃음]', ' ')\n",
    "    cleaned_content = cleaned_content.replace('[음악]', ' ')\n",
    "    cleaned_content = cleaned_content.replace('(청중 웃음)', ' ')\n",
    "    cleaned_content = cleaned_content.replace('(청중 박수)', ' ')\n",
    "    cleaned_content = re.sub(r'\\s+', ' ', cleaned_content).strip()\n",
    "\n",
    "    print(title)\n",
    "    print('---'*20)\n",
    "    print(f'{cleaned_content[:10]}...[{len(cleaned_content)}]', )\n",
    "    print('==='*20)\n",
    "    return cleaned_content"
   ]
  },
  {
   "cell_type": "code",
   "execution_count": null,
   "id": "5ef372a4",
   "metadata": {},
   "outputs": [],
   "source": [
    "# 파일 탐색\n",
    "file = drive.ListFile({\n",
    "    'q': f\"'{google_dirve_vtt_id}' in parents and title = '{playlist_id}.json' and trashed = false\"\n",
    "}).GetList()\n",
    "\n",
    "# 파일 로드\n",
    "if file:\n",
    "    original_contents = json.loads(file[0].GetContentString())\n",
    "\n",
    "len(original_contents), type(original_contents)"
   ]
  },
  {
   "cell_type": "code",
   "execution_count": null,
   "id": "f3b0544b",
   "metadata": {},
   "outputs": [],
   "source": [
    "# 자막 데이터 1차 가공\n",
    "cleaned_contents = {}\n",
    "for video_id, values in original_contents.items():\n",
    "    title = values.get('title')\n",
    "    content = values.get('subtitles_ko')\n",
    "    text = clean_content(title, content) # 자막 데이터 1차 가공\n",
    "    if text:\n",
    "        cleaned_contents[video_id] = values\n",
    "        cleaned_contents[video_id]['subtitles_ko'] = text"
   ]
  },
  {
   "cell_type": "code",
   "execution_count": null,
   "id": "04c77506",
   "metadata": {},
   "outputs": [],
   "source": [
    "# 데이터 저장\n",
    "upload_to_drive(\n",
    "    f'{playlist_id}.json', \n",
    "    json.dumps(cleaned_contents, ensure_ascii=False, indent=2), \n",
    "    google_dirve_txt_id\n",
    ")"
   ]
  },
  {
   "cell_type": "markdown",
   "id": "191079e5",
   "metadata": {},
   "source": [
    "### 2차 가공 (txt → json)"
   ]
  },
  {
   "cell_type": "code",
   "execution_count": null,
   "id": "63921324",
   "metadata": {},
   "outputs": [],
   "source": [
    "from langchain_google_genai import ChatGoogleGenerativeAI\n",
    "\n",
    "llm = ChatGoogleGenerativeAI(\n",
    "    model=\"gemini-2.5-flash\",\n",
    "    temperature=0.1\n",
    ")"
   ]
  },
  {
   "cell_type": "code",
   "execution_count": null,
   "id": "462bfca5",
   "metadata": {},
   "outputs": [],
   "source": [
    "from langchain_core.prompts import (\n",
    "    ChatPromptTemplate, \n",
    "    SystemMessagePromptTemplate, \n",
    "    HumanMessagePromptTemplate\n",
    ")\n",
    "from langchain_core.output_parsers import StrOutputParser\n",
    "\n",
    "# 자막 요약 체인 구성\n",
    "system_template = \"\"\"당신은 법륜스님의 즉문즉설 자막을 요약하는 AI입니다. \n",
    "당신의 작업은 다음과 같습니다:\n",
    "\n",
    "1. 자막 전체를 읽고 누가 말했는지 판단합니다. 입력으로 주어지는 자막은 줄글이며, 화자가 명시되지 않은 경우도 있습니다. 자막에는 가끔 (스님), (질문자) 같은 표기가 포함되어 있는데, 이 표기는 다음 단어의 화자를 의미합니다. 예: (질문자) 네 → 질문자가 \"네\"라고 말한 것  / (스님) 괜찮아 → 스님이 \"괜찮아\"라고 말한 것\n",
    "2. 대화 흐름을 유지한 채로 \"스님:\"과 \"질문자:\" 형식으로 대사를 나눕니다.  \n",
    "3. 말의 핵심 내용만 남겨 **간결하게 요약**하되, 대화의 흐름과 화자의 말투는 유지합니다. 말투와 분위기는 자연스럽게 유지해 주세요. 경전 이름, 일화, 농담, 강조가 있으면 표현을 그대로 살려 주세요.\n",
    "4. 생략 없이, 말한 사람과 순서를 정확히 반영해 주세요.\n",
    "\n",
    "결과는 아래 형식으로 출력해 주세요:\n",
    "\n",
    "질문자: (요약된 질문)  \n",
    "스님: (요약된 답변)  \n",
    "질문자: (요약된 중간 반응 또는 후속 질문)  \n",
    "스님: (요약된 답변)\n",
    "\"\"\"\n",
    "system_message = SystemMessagePromptTemplate.from_template(template=system_template)\n",
    "\n",
    "human_template = \"\"\"다음은 즉문즉설 대화 내용입니다. 이 내용을 대화 형식을 유지하면서 요약해 주세요.\n",
    "\n",
    "[자막 원문]\n",
    "{content}\n",
    "\n",
    "[자막 요약]\n",
    "\"\"\"\n",
    "human_message = HumanMessagePromptTemplate.from_template(template=human_template)\n",
    "chat_prompt = ChatPromptTemplate.from_messages([system_message, human_message])\n",
    "chain = chat_prompt | llm | StrOutputParser()"
   ]
  },
  {
   "cell_type": "code",
   "execution_count": null,
   "id": "eea63d98",
   "metadata": {},
   "outputs": [],
   "source": [
    "# 파일 탐색\n",
    "file = drive.ListFile({\n",
    "    'q': f\"'{google_dirve_txt_id}' in parents and title = '{playlist_id}.json' and trashed = false\"\n",
    "}).GetList()\n",
    "\n",
    "# 파일 로드\n",
    "if file:\n",
    "    original_contents = json.loads(file[0].GetContentString())\n",
    "\n",
    "len(original_contents), type(original_contents)"
   ]
  },
  {
   "cell_type": "code",
   "execution_count": null,
   "id": "798b60af",
   "metadata": {},
   "outputs": [],
   "source": [
    "# 초기화\n",
    "contents = {}"
   ]
  },
  {
   "cell_type": "code",
   "execution_count": null,
   "id": "eaebf1d2",
   "metadata": {},
   "outputs": [],
   "source": [
    "for key, vals in original_contents.items():\n",
    "    title = vals.get('title')\n",
    "    content = vals.get('subtitles_ko')\n",
    "    summary_content = chain.invoke({\"content\": content})    # 자막 데이터 2차 가공\n",
    "\n",
    "    if summary_content:\n",
    "        values = vals.copy()\n",
    "        values.pop('subtitles_ko')\n",
    "        \n",
    "        values['content'] = summary_content\n",
    "        contents[key] = values\n",
    "\n",
    "        print(title)\n",
    "        print('---'*10)\n",
    "        print(summary_content[:100])\n",
    "        print('==='*10)"
   ]
  },
  {
   "cell_type": "code",
   "execution_count": null,
   "id": "82b8e55a",
   "metadata": {},
   "outputs": [],
   "source": [
    "from pprint import pprint\n",
    "\n",
    "pprint(summary_content)"
   ]
  },
  {
   "cell_type": "code",
   "execution_count": null,
   "id": "bf2ddd5b",
   "metadata": {},
   "outputs": [],
   "source": [
    "# 데이터 저장\n",
    "upload_to_drive(\n",
    "    f'{playlist_id}.json', \n",
    "    json.dumps(contents, ensure_ascii=False, indent=2), \n",
    "    google_dirve_rt_id\n",
    ")"
   ]
  }
 ],
 "metadata": {
  "kernelspec": {
   "display_name": "mind_lantern_s",
   "language": "python",
   "name": "python3"
  },
  "language_info": {
   "codemirror_mode": {
    "name": "ipython",
    "version": 3
   },
   "file_extension": ".py",
   "mimetype": "text/x-python",
   "name": "python",
   "nbconvert_exporter": "python",
   "pygments_lexer": "ipython3",
   "version": "3.12.10"
  }
 },
 "nbformat": 4,
 "nbformat_minor": 5
}
