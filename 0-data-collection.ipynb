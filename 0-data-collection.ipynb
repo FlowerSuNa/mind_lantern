{
 "cells": [
  {
   "cell_type": "markdown",
   "id": "2ea1f4c0",
   "metadata": {},
   "source": [
    "# 환경설정"
   ]
  },
  {
   "cell_type": "code",
   "execution_count": null,
   "id": "219f8b7b",
   "metadata": {},
   "outputs": [],
   "source": [
    "import re\n",
    "import json"
   ]
  },
  {
   "cell_type": "code",
   "execution_count": null,
   "id": "ad4c4a5f",
   "metadata": {},
   "outputs": [],
   "source": [
    "from pydrive.auth import GoogleAuth\n",
    "from pydrive.drive import GoogleDrive\n",
    "\n",
    "gauth = GoogleAuth()\n",
    "gauth.LocalWebserverAuth()  # 처음 실행 시 브라우저 인증\n",
    "drive = GoogleDrive(gauth)"
   ]
  },
  {
   "cell_type": "code",
   "execution_count": null,
   "id": "d77cc4c4",
   "metadata": {},
   "outputs": [],
   "source": [
    "from dotenv import load_dotenv\n",
    "import os\n",
    "\n",
    "load_dotenv()\n",
    "googlr_drive_rt_id = os.getenv(\"GOOGLE_DRIVE_RT_ID\")\n",
    "google_dirve_vtt_id = os.getenv(\"GOOGLE_DRIVE_VTT_ID\")\n",
    "google_dirve_txt_id = os.getenv(\"GOOGLE_DRIVE_TXT_ID\")\n",
    "google_dirve_md_id = os.getenv(\"GOOGLE_DRIVE_MD_ID\")"
   ]
  },
  {
   "cell_type": "code",
   "execution_count": null,
   "id": "c0de7b57",
   "metadata": {},
   "outputs": [],
   "source": [
    "def upload_to_drive(filename: str, data, google_drive_id: str):\n",
    "    \"\"\" 데이터 구글 드라이브에 저장 \"\"\"\n",
    "    file = drive.CreateFile({\n",
    "        'title': filename,\n",
    "        'parents': [{'id': google_drive_id}]\n",
    "    })\n",
    "    file.SetContentString(data)\n",
    "    file.Upload()"
   ]
  },
  {
   "cell_type": "markdown",
   "id": "5a332f32",
   "metadata": {},
   "source": [
    "# 데이터 수집"
   ]
  },
  {
   "cell_type": "markdown",
   "id": "853080cc",
   "metadata": {},
   "source": [
    "- 유튜브 플레이 리스트 제목 : 조회수 100만 이상의 즉문즉설 베스트\n",
    "- 유뷰브 플레이 리스트 ID : `PLGiaCgd9PatcGBfZ7xTGdTAsHoNPRQ_AP`"
   ]
  },
  {
   "cell_type": "code",
   "execution_count": null,
   "id": "455aa054",
   "metadata": {},
   "outputs": [],
   "source": [
    "# 로컬 저장\n",
    "# ! yt-dlp --write-auto-sub --sub-lang ko --skip-download -o \"data/%(title)s.%(ext)s\" \"https://www.youtube.com/playlist?list=PLGiaCgd9PatcGBfZ7xTGdTAsHoNPRQ_AP\""
   ]
  },
  {
   "cell_type": "code",
   "execution_count": null,
   "id": "7052d558",
   "metadata": {},
   "outputs": [],
   "source": [
    "import yt_dlp\n",
    "import requests\n",
    "\n",
    "def get_playlist_entries(playlist_url):\n",
    "    \"\"\" 유튜브 플레이리스트 URL 데이터 반환\"\"\"\n",
    "    ydl_opts = {'quiet': True, 'extract_flat': True}\n",
    "    with yt_dlp.YoutubeDL(ydl_opts) as ydl:\n",
    "        info = ydl.extract_info(playlist_url, download=False)\n",
    "        return info['entries']\n",
    "    \n",
    "def get_subtitle_text(info_dict):\n",
    "    \"\"\" 유튜브 자막 데이터 반환 \"\"\"\n",
    "    # 자막 가져오기\n",
    "    subtitles = info_dict.get('subtitles') or info_dict.get('automatic_captions')\n",
    "    \n",
    "    if not subtitles or 'ko' not in subtitles:\n",
    "        return None, None\n",
    "    \n",
    "    # 자막 가져오기\n",
    "    subtitle_url = subtitles['ko'][0]['url']\n",
    "    response = requests.get(subtitle_url)\n",
    "    response.encoding = 'utf-8'\n",
    "    return info_dict['title'], response.text"
   ]
  },
  {
   "cell_type": "code",
   "execution_count": null,
   "id": "a7c87db0",
   "metadata": {},
   "outputs": [],
   "source": [
    "playlist_id = \"PLGiaCgd9PatcGBfZ7xTGdTAsHoNPRQ_AP\"\n",
    "playlist_url = f\"https://www.youtube.com/playlist?list={playlist_id}\"\n",
    "entries = get_playlist_entries(playlist_url)\n",
    "\n",
    "ydl_opts = {\n",
    "    'writesubtitles': True,\n",
    "    'skip_download': True,\n",
    "    'subtitleslangs': ['ko'],\n",
    "    'writeautomaticsub': True,\n",
    "    'quiet': True,\n",
    "    'outtmpl': '-',  # 실제 저장은 안함\n",
    "}\n",
    "ydl = yt_dlp.YoutubeDL(ydl_opts)\n",
    "\n",
    "meta_data = {}\n",
    "for entry in entries:\n",
    "    video_url = f\"https://www.youtube.com/watch?v={entry['id']}\"\n",
    "    info_dict = ydl.extract_info(video_url, download=False)\n",
    "    title, text = get_subtitle_text(info_dict)\n",
    "    if title and text:\n",
    "        file_name = f\"{title}.ko.vtt\"\n",
    "        upload_to_drive(file_name, text, google_dirve_vtt_id)\n",
    "        meta_data[video_url] = {\n",
    "            'title': title,\n",
    "            'tags': info_dict.get('tags'),\n",
    "            'view_count': info_dict.get('view_count'),\n",
    "            'duration': info_dict.get('duration'),\n",
    "            'like_count': info_dict.get('like_count'),\n",
    "            'channel': info_dict.get('channel'),\n",
    "            'upload_date': info_dict.get('upload_date'),\n",
    "        }\n",
    "    else:\n",
    "        print(f\"❌ 자막 없음: {video_url}\")\n",
    "\n",
    "upload_to_drive('yt_vtt_meta.json', meta_data, google_dirve_vtt_id)"
   ]
  },
  {
   "cell_type": "markdown",
   "id": "cca6f58c",
   "metadata": {},
   "source": [
    "# 데이터 가공"
   ]
  },
  {
   "cell_type": "markdown",
   "id": "1e726cda",
   "metadata": {},
   "source": [
    "### 1차 가공 (vtt → txt)"
   ]
  },
  {
   "cell_type": "code",
   "execution_count": null,
   "id": "8e5cde75",
   "metadata": {},
   "outputs": [],
   "source": [
    "def clean_content(title:str, content:dict) -> str:\n",
    "    \"\"\" 자막 데이터 1차 가공 \"\"\"\n",
    "    if \"몰아보기\" in title:\n",
    "        print(title, '..Skip..')\n",
    "        print('==='*20)\n",
    "        return None\n",
    "    \n",
    "    if \"events\" not in content:\n",
    "        print(title, '..Empty..')\n",
    "        print('==='*20)\n",
    "        return None\n",
    "\n",
    "    segs = []\n",
    "    for event in content['events']:\n",
    "        if \"segs\" not in event:\n",
    "            continue\n",
    "\n",
    "        segs += event[\"segs\"]\n",
    "    \n",
    "    cleaned_content = ' '.join([seg[\"utf8\"] for seg in segs])\n",
    "    cleaned_content = cleaned_content.replace('[박수]', ' ')\n",
    "    cleaned_content = cleaned_content.replace('[웃음]', ' ')\n",
    "    cleaned_content = cleaned_content.replace('[음악]', ' ')\n",
    "    cleaned_content = cleaned_content.replace('(청중 웃음)', ' ')\n",
    "    cleaned_content = cleaned_content.replace('(청중 박수)', ' ')\n",
    "    cleaned_content = re.sub(r'\\s+', ' ', cleaned_content).strip()\n",
    "\n",
    "    # 가공 데이터 구글 드라이브에 저장\n",
    "    upload_to_drive(title, cleaned_content, google_dirve_txt_id)\n",
    "\n",
    "    print(title)\n",
    "    print('---'*20)\n",
    "    print(f'{cleaned_content[:10]}...[{len(cleaned_content)}]', )\n",
    "    print('==='*20)\n",
    "    return cleaned_content"
   ]
  },
  {
   "cell_type": "code",
   "execution_count": null,
   "id": "20961b2c",
   "metadata": {},
   "outputs": [],
   "source": [
    "# .vtt 파일만 검색\n",
    "file_list = drive.ListFile({\n",
    "    'q': f\"'{google_dirve_vtt_id}' in parents and title contains '.vtt' and trashed=false\"\n",
    "}).GetList()\n",
    "len(file_list)"
   ]
  },
  {
   "cell_type": "code",
   "execution_count": null,
   "id": "f3b0544b",
   "metadata": {},
   "outputs": [],
   "source": [
    "# 자막 데이터 로드\n",
    "contents = {}\n",
    "for file in file_list[40:50]:\n",
    "    title = re.sub(\".vtt\", \".txt\", file['title'])\n",
    "    content = json.loads(file.GetContentString())\n",
    "    content = clean_content(title, content) # 자막 데이터 1차 가공\n",
    "    contents[title] = content"
   ]
  },
  {
   "cell_type": "markdown",
   "id": "191079e5",
   "metadata": {},
   "source": [
    "### 2차 가공 (txt → md)"
   ]
  },
  {
   "cell_type": "code",
   "execution_count": null,
   "id": "63921324",
   "metadata": {},
   "outputs": [],
   "source": [
    "from langchain_google_genai import ChatGoogleGenerativeAI\n",
    "\n",
    "load_dotenv()\n",
    "llm = ChatGoogleGenerativeAI(\n",
    "    model=\"gemini-2.0-flash\",\n",
    "    temperature=0.1\n",
    ")"
   ]
  },
  {
   "cell_type": "code",
   "execution_count": null,
   "id": "462bfca5",
   "metadata": {},
   "outputs": [],
   "source": [
    "from langchain_core.prompts import (\n",
    "    ChatPromptTemplate, \n",
    "    SystemMessagePromptTemplate, \n",
    "    HumanMessagePromptTemplate\n",
    ")\n",
    "from langchain_core.output_parsers import StrOutputParser\n",
    "\n",
    "# 자막 요약 체인 구성\n",
    "system_template = \"\"\"당신은 법륜스님의 즉문즉설 자막을 요약하는 AI입니다. \n",
    "당신의 작업은 다음과 같습니다:\n",
    "\n",
    "1. 자막 전체를 읽고 누가 말했는지 판단합니다. 입력으로 주어지는 자막은 줄글이며, 화자가 명시되지 않은 경우도 있습니다. 자막에는 가끔 (스님), (질문자) 같은 표기가 포함되어 있는데, 이 표기는 다음 대사의 화자를 의미합니다. 예: (질문자) 네 → 질문자가 \"네\"라고 말한 것  / (스님) 괜찮아 → 스님이 \"괜찮아\"라고 말한 것\n",
    "2. 대화 흐름을 유지한 채로 \"스님:\"과 \"질문자:\" 형식으로 대사를 나눕니다.  \n",
    "3. 말의 핵심 내용만 남겨 **간결하게 요약**하되, 대화의 흐름과 말투는 유지합니다. 말투와 분위기는 자연스럽게 유지해 주세요. 경전 이름, 일화, 농담, 강조가 있으면 그대로 살려 주세요.\n",
    "4. 생략 없이, 말한 사람과 순서를 정확히 반영해 주세요.\n",
    "\n",
    "결과는 아래 형식으로 출력해 주세요:\n",
    "\n",
    "질문자: (요약된 질문)  \n",
    "스님: (요약된 답변)  \n",
    "질문자: (요약된 중간 반응 또는 후속 질문)  \n",
    "스님: (요약된 답변)\n",
    "\"\"\"\n",
    "system_message = SystemMessagePromptTemplate.from_template(template=system_template)\n",
    "\n",
    "human_template = \"\"\"다음은 즉문즉설 자막입니다. 이 내용을 대화 형식을 유지하면서 요약해 주세요.\n",
    "\n",
    "[자막 원문]\n",
    "{content}\n",
    "\n",
    "[자막 요약]\n",
    "\"\"\"\n",
    "human_message = HumanMessagePromptTemplate.from_template(template=human_template)\n",
    "chat_prompt = ChatPromptTemplate.from_messages([system_message, human_message])\n",
    "chain = chat_prompt | llm | StrOutputParser()"
   ]
  },
  {
   "cell_type": "code",
   "execution_count": null,
   "id": "7ad572a0",
   "metadata": {},
   "outputs": [],
   "source": [
    "# .txt 파일만 검색\n",
    "txt_file_list = drive.ListFile({\n",
    "    'q': f\"'{google_dirve_txt_id}' in parents and title contains '.txt' and trashed=false\"\n",
    "}).GetList()\n",
    "len(txt_file_list)"
   ]
  },
  {
   "cell_type": "code",
   "execution_count": null,
   "id": "eaebf1d2",
   "metadata": {},
   "outputs": [],
   "source": [
    "for file in txt_file_list:\n",
    "    title = re.sub(\".txt\", \".md\", file['title'])\n",
    "    content = file.GetContentString()               # 자막 데이터 로드\n",
    "    content = chain.invoke({\"content\": content})    # 자막 데이터 2차 가공\n",
    "\n",
    "    # 가공 데이터 구글 드라이브에 저장\n",
    "    upload_to_drive(title, content, google_dirve_md_id)\n",
    "\n",
    "    print(title)\n",
    "    print('---'*10)\n",
    "    print(content[:100])\n",
    "    print('==='*10)"
   ]
  }
 ],
 "metadata": {
  "kernelspec": {
   "display_name": "mind_lantern_s",
   "language": "python",
   "name": "python3"
  },
  "language_info": {
   "codemirror_mode": {
    "name": "ipython",
    "version": 3
   },
   "file_extension": ".py",
   "mimetype": "text/x-python",
   "name": "python",
   "nbconvert_exporter": "python",
   "pygments_lexer": "ipython3",
   "version": "3.12.10"
  }
 },
 "nbformat": 4,
 "nbformat_minor": 5
}
