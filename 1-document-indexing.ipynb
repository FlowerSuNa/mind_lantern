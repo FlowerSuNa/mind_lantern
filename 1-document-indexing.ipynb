{
 "cells": [
  {
   "cell_type": "markdown",
   "id": "9079555c",
   "metadata": {},
   "source": [
    "# 환경설정"
   ]
  },
  {
   "cell_type": "code",
   "execution_count": 1,
   "id": "41a609f4",
   "metadata": {},
   "outputs": [
    {
     "name": "stdout",
     "output_type": "stream",
     "text": [
      "Your browser has been opened to visit:\n",
      "\n",
      "    https://accounts.google.com/o/oauth2/auth?client_id=1071344378062-kv36e6mgl1vnr89evq958br79d063h8p.apps.googleusercontent.com&redirect_uri=http%3A%2F%2Flocalhost%3A8080%2F&scope=https%3A%2F%2Fwww.googleapis.com%2Fauth%2Fdrive&access_type=offline&response_type=code\n",
      "\n",
      "Authentication successful.\n"
     ]
    }
   ],
   "source": [
    "from pydrive.auth import GoogleAuth\n",
    "from pydrive.drive import GoogleDrive\n",
    "\n",
    "gauth = GoogleAuth()\n",
    "gauth.LocalWebserverAuth()  # 처음 실행 시 브라우저 인증\n",
    "drive = GoogleDrive(gauth)"
   ]
  },
  {
   "cell_type": "code",
   "execution_count": 2,
   "id": "d8310e7f",
   "metadata": {},
   "outputs": [],
   "source": [
    "from dotenv import load_dotenv\n",
    "import os\n",
    "\n",
    "load_dotenv()\n",
    "google_dirve_md_id = os.getenv(\"GOOGLE_DRIVE_MD_ID\")"
   ]
  },
  {
   "cell_type": "markdown",
   "id": "0bf5b9b0",
   "metadata": {},
   "source": [
    "## Load Documents"
   ]
  },
  {
   "cell_type": "code",
   "execution_count": 3,
   "id": "705cbb82",
   "metadata": {},
   "outputs": [
    {
     "data": {
      "text/plain": [
       "43"
      ]
     },
     "execution_count": 3,
     "metadata": {},
     "output_type": "execute_result"
    }
   ],
   "source": [
    "# .md 파일만 검색\n",
    "file_list = drive.ListFile({\n",
    "    'q': f\"'{google_dirve_md_id}' in parents and title contains '.md' and trashed=false\"\n",
    "}).GetList()\n",
    "len(file_list)"
   ]
  },
  {
   "cell_type": "code",
   "execution_count": 4,
   "id": "2973c50d",
   "metadata": {},
   "outputs": [
    {
     "name": "stdout",
     "output_type": "stream",
     "text": [
      "[즉문즉설] 제83회 신랑이 바람을 피웠어요..ko.md : 639\n",
      "------------------------------\n",
      "(EN/FR/中文 SUB) 제314회 전생과 윤회에 대하여.ko.md : 1197\n",
      "------------------------------\n",
      "[즉문즉설]딸이 정토회에 너무 빠져있어서 화가 날 정도예요.ko.md : 1035\n",
      "------------------------------\n",
      "버티는 대통령, 어떻게 이해해요?.ko.md : 1851\n",
      "------------------------------\n",
      "(ENG /中文 SUB)  법륜스님 즉문즉설 1203회 행복은 마음먹기에 따라 달라진다.ko.md : 1592\n",
      "------------------------------\n",
      "부부가 떨어져 사는 것이 옳은지요?.ko.md : 1522\n",
      "------------------------------\n",
      "제336회 부익부 빈익빈의 현상.ko.md : 862\n",
      "------------------------------\n",
      "남편이 짠돌이.ko.md : 553\n",
      "------------------------------\n",
      "결혼을 못했습니다.ko.md : 1374\n",
      "------------------------------\n",
      "장인에게 혼난 후 아내까지 미워요.ko.md : 786\n",
      "------------------------------\n",
      "(Eng/中文-SUB) 즉문즉설1026회 여자친구 몰래 바람을 피웠는데 돌아가야할지 고민이에요.ko.md : 591\n",
      "------------------------------\n",
      "제553회 헤어진 남친을 다시 만나고 있는데, 그만 헤어져야 할 지 만나야 할 지.ko.md : 3031\n",
      "------------------------------\n",
      "[즉문즉설]이혼 도장은 찍었지만 마음이 답답합니다.ko.md : 1005\n",
      "------------------------------\n",
      "제513회 남을 바꾸려고 하지마라(법문).ko.md : 565\n",
      "------------------------------\n",
      "(EN/中文/FR/GER/SPA SUB)[법륜스님 즉문즉설 1187회] 싫어하는 사람을 대할 때.ko.md : 1074\n",
      "------------------------------\n",
      "제620회 남편이 새벽에 귀가 합니다. 어떻게 기도를 해야할까요?.ko.md : 1597\n",
      "------------------------------\n",
      "[즉문즉설] 대기업 신입사원인데 너무 힘들어요.ko.md : 1548\n",
      "------------------------------\n",
      "제828회 남편이 너무 과묵해서 힘듭니다.ko.md : 1321\n",
      "------------------------------\n",
      "(EN/日本語/FR/中文-SUB) [법륜스님의 즉문즉설 제 1516회] 선택의 기로.ko.md : 1715\n",
      "------------------------------\n",
      "제275회 인생의 노후를 어떻게 보내야 되는가.ko.md : 1065\n",
      "------------------------------\n",
      "즉문즉설 - 저는 제 남편만 보면 온 몸이 아픕니다.ko.md : 798\n",
      "------------------------------\n",
      "제500회 좋은 리더가 되는 방법.ko.md : 1004\n",
      "------------------------------\n",
      "[법륜스님 즉문즉설 1154회] 이혼하고 어머니와 살고 있는데 불편합니다.ko.md : 1582\n",
      "------------------------------\n",
      "(中文/FR/EN-SUB)왜 남을 위하는 게 나를 위하는 건가요?.ko.md : 1538\n",
      "------------------------------\n",
      "제994회 아상과 현실 속의 나.ko.md : 1465\n",
      "------------------------------\n",
      "(中文/EN/FR-SUB)제906회 우울함에 빠질 때 마인드 컨트롤 하는 방법.ko.md : 575\n",
      "------------------------------\n",
      "(EN-SUB)제922회 50대 가장, 열심히 일했는데 제 인생은 허무해요.ko.md : 881\n",
      "------------------------------\n",
      "[법륜스님 즉문즉설 1028회] 다른 여자를 쳐다보는 남자를 만날 인연이라고 하는데 어쩌죠?.ko.md : 1663\n",
      "------------------------------\n",
      "100% 믿을 수 있는 친구.ko.md : 998\n",
      "------------------------------\n",
      "[법륜스님 즉문즉설 1106회] 이름을 바꾸고 싶은데, 써서는 안되는 이름이 있는지요?.ko.md : 2078\n",
      "------------------------------\n",
      "(EN/中文/FR SUB) 마음이 허해요.ko.md : 1348\n",
      "------------------------------\n",
      "제989회 남편과 아이에게 섭섭하고 미운 마음이 듭니다.ko.md : 1045\n",
      "------------------------------\n",
      "(EN/FR/中文-SUB)법륜스님 즉문즉설 깨달음과 죽음에 대해 알고 싶어요..ko.md : 1013\n",
      "------------------------------\n",
      "(EN/VN-SUB)제612회 남편과 십년 별거 후 이혼하려고 합니다.  인연의 마무리를 어떻게 하면 될까요.ko.md : 1322\n",
      "------------------------------\n",
      "제959회 아버지께서 키워준 보상을 바라십니다.ko.md : 1357\n",
      "------------------------------\n",
      "어떻게 하면 성당에 신도가 많이 올까요?.ko.md : 1845\n",
      "------------------------------\n",
      "제514회 며느리와 사이가 좋지 않아요.ko.md : 1177\n",
      "------------------------------\n",
      "[법륜스님의 즉문즉설 제 1456회] 남편? 남자친구?.ko.md : 825\n",
      "------------------------------\n",
      "(EN/FR/VN-sub)There Are Too Many People I Dislike.싫은사람이 너무  많아서 고민이에요.ko.md : 1472\n",
      "------------------------------\n",
      "담보 달라는 아들.ko.md : 1364\n",
      "------------------------------\n",
      "[법륜스님 즉문즉설 제1057회] 지금 나이가 환갑인데 남은 인생 행복하게 살려면?.ko.md : 990\n",
      "------------------------------\n",
      "제 973회 짜증이 심한 아내.ko.md : 1158\n",
      "------------------------------\n",
      "제358회 며느리가 제 아들에게 이혼하자고 합니다.ko.md : 1965\n",
      "------------------------------\n"
     ]
    }
   ],
   "source": [
    "from langchain_core.documents import Document\n",
    "\n",
    "# 자막 데이터 로드\n",
    "docs = []\n",
    "for file in file_list:\n",
    "    source = file['title']\n",
    "    content = file.GetContentString()\n",
    "    doc = Document(\n",
    "        page_content=content, \n",
    "        metadata={\"source\": source}\n",
    "    )\n",
    "    docs.append(doc)\n",
    "\n",
    "    print(f'{source} : {len(content)}')\n",
    "    print('---'*10)"
   ]
  },
  {
   "cell_type": "markdown",
   "id": "b854b2b5",
   "metadata": {},
   "source": [
    "## Indexing"
   ]
  },
  {
   "cell_type": "code",
   "execution_count": 5,
   "id": "76fd40b4",
   "metadata": {},
   "outputs": [],
   "source": [
    "from langchain_openai.embeddings import OpenAIEmbeddings\n",
    "\n",
    "# 임베딩 정의\n",
    "embeddings = OpenAIEmbeddings(\n",
    "    model=\"text-embedding-3-small\",\n",
    "    dimensions=1024\n",
    ")\n",
    "\n",
    "# 문서 임베딩\n",
    "# document_embeddings = embeddings.embed_documents(\n",
    "#     [chunk.page_content for chunk in docs]\n",
    "# )"
   ]
  },
  {
   "cell_type": "code",
   "execution_count": 9,
   "id": "d6241b82",
   "metadata": {},
   "outputs": [],
   "source": [
    "from langchain.vectorstores import Chroma\n",
    "\n",
    "# 벡터 스토어 저장\n",
    "vectorstore = Chroma.from_documents(\n",
    "    documents=docs,\n",
    "    embedding=embeddings,\n",
    "    collection_name=\"content-250618\",\n",
    "    persist_directory=\"./chroma_db\"\n",
    ")"
   ]
  },
  {
   "cell_type": "code",
   "execution_count": 14,
   "id": "1bd867fd",
   "metadata": {},
   "outputs": [
    {
     "name": "stdout",
     "output_type": "stream",
     "text": [
      "쿼리: 불안해요.\n",
      "검색 결과:\n",
      "제553회 헤어진 남친을 다시 만나고 있는데, 그만 헤어져야 할 지 만나야 할 지.ko.md\n",
      "------------------------------------------------------------\n",
      "질문자: 10년 된 남친이 있었는데, 2년 전 헤어지고 다시 만나요. 집안 환경 때문에 남친 부모님이 안 좋아하셔서 헤어졌는데, 저희 집이 매일 싸우는 환경이라 저도 행복하지 못했\n",
      "============================================================\n",
      "제336회 부익부 빈익빈의 현상.ko.md\n",
      "------------------------------------------------------------\n",
      "질문자: 스님, 안녕하세요. 요즘 일하는 게 너무 힘듭니다. 부익부 빈익빈 현상을 어떻게 이해하고 어떤 마음가짐으로 살아야 할까요?\n",
      "\n",
      "스님: 괴로움은 크게 두 종류인데, 첫째는 가\n",
      "============================================================\n",
      "(EN/FR/中文-SUB)법륜스님 즉문즉설 깨달음과 죽음에 대해 알고 싶어요..ko.md\n",
      "------------------------------------------------------------\n",
      "질문자: 깨달음과 죽음에 대해 알고 싶습니다. 죽은 후에는 어떻게 되는지 궁금합니다.\n",
      "스님: 죽어보면 알게 될 텐데 뭘 미리 물어요? 죽음이라는 건 살아있는 삶을 제대로 아는가에 \n",
      "============================================================\n"
     ]
    }
   ],
   "source": [
    "# 검색 테스트 \n",
    "query = \"불안해요.\"\n",
    "\n",
    "retriever_mmr = vectorstore.as_retriever(\n",
    "    search_type='mmr',\n",
    "    search_kwargs={\n",
    "        'k': 3,                 # 검색할 문서의 수\n",
    "        'fetch_k': 8,           # mmr 알고리즘에 전달할 문서의 수 (fetch_k > k)\n",
    "        'lambda_mult': 0.3,     # 다양성을 고려하는 정도 (1은 최소 다양성, 0은 최대 다양성을 의미. 기본값은 0.5)\n",
    "        },\n",
    ")\n",
    "retrieved_docs = retriever_mmr.invoke(query)\n",
    "\n",
    "print(f\"쿼리: {query}\")\n",
    "print(\"검색 결과:\")\n",
    "for doc in retrieved_docs:\n",
    "    print(doc.metadata['source'])\n",
    "    print('---'*20)\n",
    "    print(doc.page_content[:100])\n",
    "    print('==='*20)\n"
   ]
  },
  {
   "cell_type": "code",
   "execution_count": null,
   "id": "50f0cecd",
   "metadata": {},
   "outputs": [],
   "source": []
  },
  {
   "cell_type": "code",
   "execution_count": null,
   "id": "aa7cfdd2",
   "metadata": {},
   "outputs": [],
   "source": []
  },
  {
   "cell_type": "code",
   "execution_count": null,
   "id": "f0517b71",
   "metadata": {},
   "outputs": [],
   "source": [
    "from langchain_google_genai import ChatGoogleGenerativeAI\n",
    "from langchain.chains import RetrievalQA\n",
    "\n",
    "llm = ChatGoogleGenerativeAI(model=\"gemini-pro\")\n",
    "\n",
    "qa_chain = RetrievalQA.from_chain_type(\n",
    "    llm=llm,\n",
    "    retriever=retriever,\n",
    "    return_source_documents=True\n",
    ")\n",
    "\n",
    "# 질의 테스트\n",
    "query = \"법륜스님은 불안할 때 어떻게 하라고 하셨어?\"\n",
    "result = qa_chain.run(query)\n",
    "print(result)\n"
   ]
  },
  {
   "cell_type": "code",
   "execution_count": null,
   "id": "dd794609",
   "metadata": {},
   "outputs": [],
   "source": []
  }
 ],
 "metadata": {
  "kernelspec": {
   "display_name": "mind_lantern_s",
   "language": "python",
   "name": "python3"
  },
  "language_info": {
   "codemirror_mode": {
    "name": "ipython",
    "version": 3
   },
   "file_extension": ".py",
   "mimetype": "text/x-python",
   "name": "python",
   "nbconvert_exporter": "python",
   "pygments_lexer": "ipython3",
   "version": "3.12.10"
  }
 },
 "nbformat": 4,
 "nbformat_minor": 5
}
